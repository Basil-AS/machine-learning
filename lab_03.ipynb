{
 "cells": [
  {
   "cell_type": "markdown",
   "id": "084848af",
   "metadata": {},
   "source": [
    "---\n",
    "jupyter:\n",
    "  jupytext:\n",
    "    text_representation:\n",
    "      extension: .md\n",
    "      format_name: markdown\n",
    "      format_version: '1.3'\n",
    "      jupytext_version: 1.16.7\n",
    "  kernelspec:\n",
    "    display_name: Python 3 (ipykernel)\n",
    "    language: python\n",
    "    name: python3\n",
    "---\n",
    "\n",
    "# Лабораторная работа 3. Пакет Pandas\n",
    "\n",
    "**Цель работы:** ознакомление с методом аппроксимации функций.\n",
    "\n",
    "Продолжительность работы: - 4 часа.\n",
    "\n",
    "Мягкий дедлайн (10 баллов): 27.03.2025\n",
    "\n",
    "Жесткий дедлайн (5 баллов): 10.04.2025\n",
    "\n",
    "Оценка за каждое задание указана в комментариях перед заданием.\n",
    "\n",
    "Задание выполняется самостоятельно, в противном случае все причастные получат 0 баллов :)\n",
    "Если вы нашли решение любого из заданий (или его части) в открытом источнике, необходимо указать ссылку на этот источник в отдельном блоке в конце своей работы.\n",
    "В противном случае **работа также будет оценена в 0 баллов**.\n"
   ]
  },
  {
   "cell_type": "code",
   "execution_count": 80,
   "id": "d2da297c",
   "metadata": {},
   "outputs": [],
   "source": [
    "score = 0"
   ]
  },
  {
   "cell_type": "code",
   "execution_count": 81,
   "id": "0d8399aa",
   "metadata": {},
   "outputs": [],
   "source": [
    "import numpy as np\n",
    "import pandas as pd"
   ]
  },
  {
   "cell_type": "markdown",
   "id": "4de1d94e",
   "metadata": {},
   "source": [
    "## Часть 1. Изучение набора данных\n",
    "\n",
    "Откройте файл ../data/lab01_train.csv с таблицей (не забудьте про её формат). Выведите последние 10 строк.\n"
   ]
  },
  {
   "cell_type": "code",
   "execution_count": 82,
   "id": "4f6ac53d",
   "metadata": {},
   "outputs": [
    {
     "data": {
      "text/html": [
       "<div>\n",
       "<style scoped>\n",
       "    .dataframe tbody tr th:only-of-type {\n",
       "        vertical-align: middle;\n",
       "    }\n",
       "\n",
       "    .dataframe tbody tr th {\n",
       "        vertical-align: top;\n",
       "    }\n",
       "\n",
       "    .dataframe thead th {\n",
       "        text-align: right;\n",
       "    }\n",
       "</style>\n",
       "<table border=\"1\" class=\"dataframe\">\n",
       "  <thead>\n",
       "    <tr style=\"text-align: right;\">\n",
       "      <th></th>\n",
       "      <th>timestamp</th>\n",
       "      <th>id</th>\n",
       "      <th>rating</th>\n",
       "      <th>course_2</th>\n",
       "      <th>course_3</th>\n",
       "      <th>is_mi_student</th>\n",
       "      <th>is_ml_student</th>\n",
       "      <th>fall_1</th>\n",
       "      <th>fall_2</th>\n",
       "      <th>fall_3</th>\n",
       "      <th>spring_1</th>\n",
       "      <th>spring_2</th>\n",
       "      <th>spring_3</th>\n",
       "      <th>is_first_time</th>\n",
       "      <th>percentile</th>\n",
       "      <th>blended</th>\n",
       "    </tr>\n",
       "  </thead>\n",
       "  <tbody>\n",
       "    <tr>\n",
       "      <th>351</th>\n",
       "      <td>2023-05-18 23:58:33</td>\n",
       "      <td>8fe79f84f36e3a5d2d6745621321302c</td>\n",
       "      <td>1016</td>\n",
       "      <td>44.0</td>\n",
       "      <td>NaN</td>\n",
       "      <td>NaN</td>\n",
       "      <td>NaN</td>\n",
       "      <td>Безопасность компьютерных систем</td>\n",
       "      <td>Высокопроизводительные вычисления</td>\n",
       "      <td>Сбор и обработка данных с помощью краудсорсинга</td>\n",
       "      <td>Конфликты и кооперация</td>\n",
       "      <td>Проектирование и разработка высоконагруженных ...</td>\n",
       "      <td>Символьные вычисления</td>\n",
       "      <td>Да</td>\n",
       "      <td>0.942029</td>\n",
       "      <td>DevOps</td>\n",
       "    </tr>\n",
       "    <tr>\n",
       "      <th>352</th>\n",
       "      <td>2023-05-18 23:59:20</td>\n",
       "      <td>f93afd8e92c336b471aa3bbbc579aefe</td>\n",
       "      <td>1298</td>\n",
       "      <td>45.0</td>\n",
       "      <td>NaN</td>\n",
       "      <td>NaN</td>\n",
       "      <td>NaN</td>\n",
       "      <td>Высокопроизводительные вычисления</td>\n",
       "      <td>Сбор и обработка данных с помощью краудсорсинга</td>\n",
       "      <td>Statistical Learning Theory</td>\n",
       "      <td>Методы сжатия и передачи медиаданных</td>\n",
       "      <td>Проектирование и разработка высоконагруженных ...</td>\n",
       "      <td>Конфликты и кооперация</td>\n",
       "      <td>Да</td>\n",
       "      <td>0.579710</td>\n",
       "      <td>DevOps</td>\n",
       "    </tr>\n",
       "    <tr>\n",
       "      <th>353</th>\n",
       "      <td>2023-05-18 23:59:28</td>\n",
       "      <td>9963fc00d9405a35b894cc04a7e19855</td>\n",
       "      <td>1135</td>\n",
       "      <td>45.0</td>\n",
       "      <td>NaN</td>\n",
       "      <td>NaN</td>\n",
       "      <td>NaN</td>\n",
       "      <td>Безопасность компьютерных систем</td>\n",
       "      <td>Высокопроизводительные вычисления</td>\n",
       "      <td>Безопасность компьютерных систем</td>\n",
       "      <td>Проектирование и разработка высоконагруженных ...</td>\n",
       "      <td>Методы сжатия и передачи медиаданных</td>\n",
       "      <td>Символьные вычисления</td>\n",
       "      <td>Да</td>\n",
       "      <td>0.572464</td>\n",
       "      <td>DevOps</td>\n",
       "    </tr>\n",
       "    <tr>\n",
       "      <th>354</th>\n",
       "      <td>2023-05-19 08:55:39</td>\n",
       "      <td>98c5a2548d93f26bd4195466e93178b3</td>\n",
       "      <td>1035</td>\n",
       "      <td>41.0</td>\n",
       "      <td>NaN</td>\n",
       "      <td>NaN</td>\n",
       "      <td>NaN</td>\n",
       "      <td>Байесовские методы машинного обучения</td>\n",
       "      <td>Глубинное обучение в обработке звука</td>\n",
       "      <td>Statistical Learning Theory</td>\n",
       "      <td>Обучение с подкреплением</td>\n",
       "      <td>Генеративные модели в машинном обучении</td>\n",
       "      <td>Методы сжатия и передачи медиаданных</td>\n",
       "      <td>Нет</td>\n",
       "      <td>0.905797</td>\n",
       "      <td>DevOps</td>\n",
       "    </tr>\n",
       "    <tr>\n",
       "      <th>355</th>\n",
       "      <td>2023-05-19 18:58:06</td>\n",
       "      <td>ba298cbd9be59b84bab33325e956f27e</td>\n",
       "      <td>1155</td>\n",
       "      <td>41.0</td>\n",
       "      <td>NaN</td>\n",
       "      <td>NaN</td>\n",
       "      <td>NaN</td>\n",
       "      <td>Сбор и обработка данных с помощью краудсорсинга</td>\n",
       "      <td>Байесовские методы машинного обучения</td>\n",
       "      <td>Анализ неструктурированных данных</td>\n",
       "      <td>Конфликты и кооперация</td>\n",
       "      <td>Обучение с подкреплением</td>\n",
       "      <td>Компьютерное зрение</td>\n",
       "      <td>Да</td>\n",
       "      <td>0.507246</td>\n",
       "      <td>Соревновательный анализ данных</td>\n",
       "    </tr>\n",
       "    <tr>\n",
       "      <th>356</th>\n",
       "      <td>2023-05-19 19:04:17</td>\n",
       "      <td>c5870b37ee3f672e4259dfb2fc02ed8f</td>\n",
       "      <td>1029</td>\n",
       "      <td>44.0</td>\n",
       "      <td>NaN</td>\n",
       "      <td>NaN</td>\n",
       "      <td>NaN</td>\n",
       "      <td>Statistical Learning Theory</td>\n",
       "      <td>Анализ неструктурированных данных</td>\n",
       "      <td>Сбор и обработка данных с помощью краудсорсинга</td>\n",
       "      <td>Обучение с подкреплением</td>\n",
       "      <td>Конфликты и кооперация</td>\n",
       "      <td>Компьютерное зрение</td>\n",
       "      <td>Да</td>\n",
       "      <td>0.920290</td>\n",
       "      <td>DevOps</td>\n",
       "    </tr>\n",
       "    <tr>\n",
       "      <th>357</th>\n",
       "      <td>2023-05-19 20:19:25</td>\n",
       "      <td>f44aea1095f9f5b8e2f5f0ed2b17891b</td>\n",
       "      <td>1060</td>\n",
       "      <td>44.0</td>\n",
       "      <td>NaN</td>\n",
       "      <td>NaN</td>\n",
       "      <td>NaN</td>\n",
       "      <td>Анализ неструктурированных данных</td>\n",
       "      <td>Высокопроизводительные вычисления</td>\n",
       "      <td>Моделирование временных рядов</td>\n",
       "      <td>Конфликты и кооперация</td>\n",
       "      <td>Обучение с подкреплением</td>\n",
       "      <td>Численные методы</td>\n",
       "      <td>Да</td>\n",
       "      <td>0.840580</td>\n",
       "      <td>DevOps</td>\n",
       "    </tr>\n",
       "    <tr>\n",
       "      <th>358</th>\n",
       "      <td>2023-05-20 11:54:38</td>\n",
       "      <td>d7118b44c7e8fdbbaaca226d2da6fef1</td>\n",
       "      <td>1111</td>\n",
       "      <td>43.0</td>\n",
       "      <td>NaN</td>\n",
       "      <td>NaN</td>\n",
       "      <td>NaN</td>\n",
       "      <td>Сбор и обработка данных с помощью краудсорсинга</td>\n",
       "      <td>Statistical Learning Theory</td>\n",
       "      <td>Анализ неструктурированных данных</td>\n",
       "      <td>Проектирование и разработка высоконагруженных ...</td>\n",
       "      <td>Методы сжатия и передачи медиаданных</td>\n",
       "      <td>Численные методы</td>\n",
       "      <td>Да</td>\n",
       "      <td>0.652174</td>\n",
       "      <td>Соревновательный анализ данных</td>\n",
       "    </tr>\n",
       "    <tr>\n",
       "      <th>359</th>\n",
       "      <td>2023-05-23 21:16:40</td>\n",
       "      <td>79d14db48e4737af731960ae212d5134</td>\n",
       "      <td>966</td>\n",
       "      <td>42.0</td>\n",
       "      <td>NaN</td>\n",
       "      <td>NaN</td>\n",
       "      <td>NaN</td>\n",
       "      <td>Безопасность компьютерных систем</td>\n",
       "      <td>Принятие решений в условиях риска и неопределё...</td>\n",
       "      <td>Анализ неструктурированных данных</td>\n",
       "      <td>Проектирование и разработка высоконагруженных ...</td>\n",
       "      <td>Методы сжатия и передачи медиаданных</td>\n",
       "      <td>Компьютерное зрение</td>\n",
       "      <td>Да</td>\n",
       "      <td>0.985507</td>\n",
       "      <td>DevOps</td>\n",
       "    </tr>\n",
       "    <tr>\n",
       "      <th>360</th>\n",
       "      <td>2023-05-23 21:16:40</td>\n",
       "      <td>f2d210ace25a841e1e58036b257d5d47</td>\n",
       "      <td>1195</td>\n",
       "      <td>46.0</td>\n",
       "      <td>NaN</td>\n",
       "      <td>NaN</td>\n",
       "      <td>NaN</td>\n",
       "      <td>Анализ неструктурированных данных</td>\n",
       "      <td>Моделирование временных рядов</td>\n",
       "      <td>Высокопроизводительные вычисления</td>\n",
       "      <td>Обучение с подкреплением</td>\n",
       "      <td>Компьютерное зрение</td>\n",
       "      <td>Методы сжатия и передачи медиаданных</td>\n",
       "      <td>Да</td>\n",
       "      <td>0.369565</td>\n",
       "      <td>Соревновательный анализ данных</td>\n",
       "    </tr>\n",
       "  </tbody>\n",
       "</table>\n",
       "</div>"
      ],
      "text/plain": [
       "               timestamp                                id  rating  course_2  \\\n",
       "351  2023-05-18 23:58:33  8fe79f84f36e3a5d2d6745621321302c    1016      44.0   \n",
       "352  2023-05-18 23:59:20  f93afd8e92c336b471aa3bbbc579aefe    1298      45.0   \n",
       "353  2023-05-18 23:59:28  9963fc00d9405a35b894cc04a7e19855    1135      45.0   \n",
       "354  2023-05-19 08:55:39  98c5a2548d93f26bd4195466e93178b3    1035      41.0   \n",
       "355  2023-05-19 18:58:06  ba298cbd9be59b84bab33325e956f27e    1155      41.0   \n",
       "356  2023-05-19 19:04:17  c5870b37ee3f672e4259dfb2fc02ed8f    1029      44.0   \n",
       "357  2023-05-19 20:19:25  f44aea1095f9f5b8e2f5f0ed2b17891b    1060      44.0   \n",
       "358  2023-05-20 11:54:38  d7118b44c7e8fdbbaaca226d2da6fef1    1111      43.0   \n",
       "359  2023-05-23 21:16:40  79d14db48e4737af731960ae212d5134     966      42.0   \n",
       "360  2023-05-23 21:16:40  f2d210ace25a841e1e58036b257d5d47    1195      46.0   \n",
       "\n",
       "     course_3  is_mi_student  is_ml_student  \\\n",
       "351       NaN            NaN            NaN   \n",
       "352       NaN            NaN            NaN   \n",
       "353       NaN            NaN            NaN   \n",
       "354       NaN            NaN            NaN   \n",
       "355       NaN            NaN            NaN   \n",
       "356       NaN            NaN            NaN   \n",
       "357       NaN            NaN            NaN   \n",
       "358       NaN            NaN            NaN   \n",
       "359       NaN            NaN            NaN   \n",
       "360       NaN            NaN            NaN   \n",
       "\n",
       "                                              fall_1  \\\n",
       "351                 Безопасность компьютерных систем   \n",
       "352                Высокопроизводительные вычисления   \n",
       "353                 Безопасность компьютерных систем   \n",
       "354            Байесовские методы машинного обучения   \n",
       "355  Сбор и обработка данных с помощью краудсорсинга   \n",
       "356                      Statistical Learning Theory   \n",
       "357                Анализ неструктурированных данных   \n",
       "358  Сбор и обработка данных с помощью краудсорсинга   \n",
       "359                 Безопасность компьютерных систем   \n",
       "360                Анализ неструктурированных данных   \n",
       "\n",
       "                                                fall_2  \\\n",
       "351                  Высокопроизводительные вычисления   \n",
       "352    Сбор и обработка данных с помощью краудсорсинга   \n",
       "353                  Высокопроизводительные вычисления   \n",
       "354               Глубинное обучение в обработке звука   \n",
       "355              Байесовские методы машинного обучения   \n",
       "356                  Анализ неструктурированных данных   \n",
       "357                  Высокопроизводительные вычисления   \n",
       "358                        Statistical Learning Theory   \n",
       "359  Принятие решений в условиях риска и неопределё...   \n",
       "360                      Моделирование временных рядов   \n",
       "\n",
       "                                              fall_3  \\\n",
       "351  Сбор и обработка данных с помощью краудсорсинга   \n",
       "352                      Statistical Learning Theory   \n",
       "353                 Безопасность компьютерных систем   \n",
       "354                      Statistical Learning Theory   \n",
       "355                Анализ неструктурированных данных   \n",
       "356  Сбор и обработка данных с помощью краудсорсинга   \n",
       "357                    Моделирование временных рядов   \n",
       "358                Анализ неструктурированных данных   \n",
       "359                Анализ неструктурированных данных   \n",
       "360                Высокопроизводительные вычисления   \n",
       "\n",
       "                                              spring_1  \\\n",
       "351                             Конфликты и кооперация   \n",
       "352               Методы сжатия и передачи медиаданных   \n",
       "353  Проектирование и разработка высоконагруженных ...   \n",
       "354                           Обучение с подкреплением   \n",
       "355                             Конфликты и кооперация   \n",
       "356                           Обучение с подкреплением   \n",
       "357                             Конфликты и кооперация   \n",
       "358  Проектирование и разработка высоконагруженных ...   \n",
       "359  Проектирование и разработка высоконагруженных ...   \n",
       "360                           Обучение с подкреплением   \n",
       "\n",
       "                                              spring_2  \\\n",
       "351  Проектирование и разработка высоконагруженных ...   \n",
       "352  Проектирование и разработка высоконагруженных ...   \n",
       "353               Методы сжатия и передачи медиаданных   \n",
       "354            Генеративные модели в машинном обучении   \n",
       "355                           Обучение с подкреплением   \n",
       "356                             Конфликты и кооперация   \n",
       "357                           Обучение с подкреплением   \n",
       "358               Методы сжатия и передачи медиаданных   \n",
       "359               Методы сжатия и передачи медиаданных   \n",
       "360                                Компьютерное зрение   \n",
       "\n",
       "                                 spring_3 is_first_time  percentile  \\\n",
       "351                 Символьные вычисления            Да    0.942029   \n",
       "352                Конфликты и кооперация            Да    0.579710   \n",
       "353                 Символьные вычисления            Да    0.572464   \n",
       "354  Методы сжатия и передачи медиаданных           Нет    0.905797   \n",
       "355                   Компьютерное зрение            Да    0.507246   \n",
       "356                   Компьютерное зрение            Да    0.920290   \n",
       "357                      Численные методы            Да    0.840580   \n",
       "358                      Численные методы            Да    0.652174   \n",
       "359                   Компьютерное зрение            Да    0.985507   \n",
       "360  Методы сжатия и передачи медиаданных            Да    0.369565   \n",
       "\n",
       "                            blended  \n",
       "351                          DevOps  \n",
       "352                          DevOps  \n",
       "353                          DevOps  \n",
       "354                          DevOps  \n",
       "355  Соревновательный анализ данных  \n",
       "356                          DevOps  \n",
       "357                          DevOps  \n",
       "358  Соревновательный анализ данных  \n",
       "359                          DevOps  \n",
       "360  Соревновательный анализ данных  "
      ]
     },
     "execution_count": 82,
     "metadata": {},
     "output_type": "execute_result"
    }
   ],
   "source": [
    "df = pd.read_csv('./data/lab01_train.csv')\n",
    "df.tail(10)"
   ]
  },
  {
   "cell_type": "markdown",
   "id": "986922c7",
   "metadata": {},
   "source": [
    "Сколько было заявок от студентов второго курса, а сколько третьего курса?"
   ]
  },
  {
   "cell_type": "code",
   "execution_count": 69,
   "id": "a2c7dff0",
   "metadata": {},
   "outputs": [],
   "source": [
    "number_of_request_course_2 = df['course_2'].notna().sum()\n",
    "number_of_request_course_3 = df['course_3'].notna().sum()"
   ]
  },
  {
   "cell_type": "code",
   "execution_count": 70,
   "id": "a7724b7c",
   "metadata": {},
   "outputs": [],
   "source": [
    "%%capture\n",
    "\n",
    "assert number_of_request_course_2  == 138, 'Тест не пройден'\n",
    "assert number_of_request_course_3 == 223, 'Тест не пройден'\n",
    "print(\"Выполнено\")\n",
    "score += 0.5"
   ]
  },
  {
   "cell_type": "markdown",
   "id": "f63ab23a",
   "metadata": {},
   "source": [
    "Есть ли студенты с равными перцентилями?"
   ]
  },
  {
   "cell_type": "code",
   "execution_count": 38,
   "id": "d2df8169",
   "metadata": {},
   "outputs": [],
   "source": [
    "is_equal_percentil = df['percentile'].duplicated().any()"
   ]
  },
  {
   "cell_type": "code",
   "execution_count": 39,
   "id": "0933f976",
   "metadata": {},
   "outputs": [],
   "source": [
    "%%capture\n",
    "\n",
    "assert is_equal_percentil == True, 'Тест не пройден'\n",
    "print(\"Выполнено\")\n",
    "score += 0.5"
   ]
  },
  {
   "cell_type": "markdown",
   "id": "de215ba9",
   "metadata": {},
   "source": [
    "Есть ли в данных пропуски? В каких колонках? Сколько их в каждой из этих колонках?"
   ]
  },
  {
   "cell_type": "code",
   "execution_count": 40,
   "id": "94771ae4",
   "metadata": {},
   "outputs": [],
   "source": [
    "course_2_na = df['course_2'].isna().sum()\n",
    "course_3_na = df['course_3'].isna().sum()\n",
    "is_mi_student_na = df['is_mi_student'].isna().sum()\n",
    "is_ml_student_na = df['is_ml_student'].isna().sum()\n",
    "is_first_time_na = df['is_first_time'].isna().sum()\n",
    "blended_na = df['blended'].isna().sum()\n",
    "percentile_na = df['percentile'].isna().sum()"
   ]
  },
  {
   "cell_type": "code",
   "execution_count": 41,
   "id": "0a555e14",
   "metadata": {},
   "outputs": [],
   "source": [
    "%%capture\n",
    "\n",
    "assert course_2_na == 223, 'Тест не пройден'\n",
    "assert course_3_na == 138, 'Тест не пройден'\n",
    "assert is_mi_student_na == 343, 'Тест не пройден'\n",
    "assert is_ml_student_na == 304, 'Тест не пройден'\n",
    "assert blended_na == 223, 'Тест не пройден'\n",
    "assert is_first_time_na == 0, 'Тест не пройден'\n",
    "assert percentile_na == 0, 'Тест не пройден'\n",
    "\n",
    "print(\"Выполнено\")\n",
    "score += 0.5"
   ]
  },
  {
   "cell_type": "markdown",
   "id": "08c1621c",
   "metadata": {},
   "source": [
    "Заполните пропуски пустой строкой для строковых колонок и нулём для числовых."
   ]
  },
  {
   "cell_type": "code",
   "execution_count": 83,
   "id": "9a5a188c",
   "metadata": {},
   "outputs": [],
   "source": [
    "# Заполняем пропуски\n",
    "df['course_2'] = df['course_2'].fillna('')\n",
    "df['course_3'] = df['course_3'].fillna('')\n",
    "df['is_mi_student'] = df['is_mi_student'].fillna(0)\n",
    "df['is_ml_student'] = df['is_ml_student'].fillna(0)\n",
    "df['blended'] = df['blended'].fillna('')\n",
    "\n",
    "# После заполнения проверяем отсутствие пропусков\n",
    "df_na = df.isna().sum().sum()"
   ]
  },
  {
   "cell_type": "code",
   "execution_count": 43,
   "id": "787175d5",
   "metadata": {},
   "outputs": [],
   "source": [
    "%%capture\n",
    "\n",
    "assert df_na == 0, 'Тест не пройден'\n",
    "\n",
    "print(\"Выполнено\")\n",
    "score += 0.5"
   ]
  },
  {
   "cell_type": "markdown",
   "id": "dcd6ff0b",
   "metadata": {},
   "source": [
    "Посмотрите повнимательнее на колонку 'is_first_time'. \n",
    "Есть ли в ней ответы \"Нет\"? Сколько их?"
   ]
  },
  {
   "cell_type": "code",
   "execution_count": 44,
   "id": "ae90dd40",
   "metadata": {},
   "outputs": [],
   "source": [
    "number_is_first_time_responses_no = (df['is_first_time'] == 'Нет').sum()"
   ]
  },
  {
   "cell_type": "code",
   "execution_count": 45,
   "id": "e6809bb1",
   "metadata": {},
   "outputs": [],
   "source": [
    "%%capture\n",
    "\n",
    "assert number_is_first_time_responses_no == 52, 'Тест не пройден'\n",
    "print(\"Выполнено\")\n",
    "score += 0.5"
   ]
  },
  {
   "cell_type": "markdown",
   "id": "fcdd5658",
   "metadata": {},
   "source": [
    "Если вы найдете повторные обращения студентов, оставьте только самую позднюю версию."
   ]
  },
  {
   "cell_type": "code",
   "execution_count": 84,
   "id": "79fd3bbb",
   "metadata": {},
   "outputs": [],
   "source": [
    "df = df.drop_duplicates(subset='id', keep='last')\n",
    "total_number_of_request = df.shape[0]"
   ]
  },
  {
   "cell_type": "code",
   "execution_count": 47,
   "id": "a51c8b50",
   "metadata": {},
   "outputs": [],
   "source": [
    "%%capture\n",
    "\n",
    "assert total_number_of_request == 347, 'Тест не пройден'\n",
    "print(\"Выполнено\")\n",
    "score += 0.5"
   ]
  },
  {
   "cell_type": "markdown",
   "id": "1992a015",
   "metadata": {},
   "source": [
    "Какие  blended-курсы для второкурсников существуют?"
   ]
  },
  {
   "cell_type": "code",
   "execution_count": 48,
   "id": "53c46848",
   "metadata": {},
   "outputs": [],
   "source": [
    "blended_courses_for_second_year_students = set(df.loc[df['course_2'] != '', 'blended'].astype(str).unique())\n",
    "blended_courses_for_second_year_students.discard('')"
   ]
  },
  {
   "cell_type": "code",
   "execution_count": 49,
   "id": "94a1d19b",
   "metadata": {},
   "outputs": [],
   "source": [
    "%%capture\n",
    "\n",
    "assert blended_courses_for_second_year_students == {'DevOps',\n",
    "                                                   'Введение в дифференциальную геометрию',\n",
    "                                                   'Соревновательный анализ данных'}, 'Тест не пройден'\n",
    "print(\"Выполнено\")\n",
    "score += 0.5"
   ]
  },
  {
   "cell_type": "markdown",
   "id": "e3ccc0be",
   "metadata": {},
   "source": [
    "На какой blended-курс записалось наибольшее количество студентов?"
   ]
  },
  {
   "cell_type": "code",
   "execution_count": 50,
   "id": "c899e4d3",
   "metadata": {},
   "outputs": [],
   "source": [
    "blended_counts = df.loc[df['course_2'] != '', 'blended'].value_counts()\n",
    "blended_course_with_max_request = blended_counts.idxmax()"
   ]
  },
  {
   "cell_type": "code",
   "execution_count": 51,
   "id": "30894441",
   "metadata": {},
   "outputs": [],
   "source": [
    "%%capture\n",
    "\n",
    "assert blended_course_with_max_request == 'DevOps', 'Тест не пройден'\n",
    "print(\"Выполнено\")\n",
    "score += 0.5"
   ]
  },
  {
   "cell_type": "markdown",
   "id": "133dc077",
   "metadata": {},
   "source": [
    "На каком из курсов собрались студенты с самым высоким средним рейтингом?"
   ]
  },
  {
   "cell_type": "code",
   "execution_count": 52,
   "id": "e3379b49",
   "metadata": {},
   "outputs": [],
   "source": [
    "# Рассчитываем средний рейтинг по blended-курсам\n",
    "blended_avg = df.loc[df['blended'] != '', :].groupby('blended')['percentile'].mean()\n",
    "course_with_highest_average_rating = blended_avg.idxmax()"
   ]
  },
  {
   "cell_type": "code",
   "execution_count": 53,
   "id": "da7823ce",
   "metadata": {},
   "outputs": [
    {
     "ename": "AssertionError",
     "evalue": "Тест не пройден",
     "output_type": "error",
     "traceback": [
      "\u001b[31m---------------------------------------------------------------------------\u001b[39m",
      "\u001b[31mAssertionError\u001b[39m                            Traceback (most recent call last)",
      "\u001b[36mCell\u001b[39m\u001b[36m \u001b[39m\u001b[32mIn[53]\u001b[39m\u001b[32m, line 1\u001b[39m\n\u001b[32m----> \u001b[39m\u001b[32m1\u001b[39m \u001b[38;5;28;01massert\u001b[39;00m course_with_highest_average_rating == \u001b[33m'\u001b[39m\u001b[33mВведение в дифференциальную геометрию\u001b[39m\u001b[33m'\u001b[39m, \u001b[33m'\u001b[39m\u001b[33mТест не пройден\u001b[39m\u001b[33m'\u001b[39m\n\u001b[32m      2\u001b[39m \u001b[38;5;28mprint\u001b[39m(\u001b[33m\"\u001b[39m\u001b[33mВыполнено\u001b[39m\u001b[33m\"\u001b[39m)\n\u001b[32m      3\u001b[39m score += \u001b[32m0.5\u001b[39m\n",
      "\u001b[31mAssertionError\u001b[39m: Тест не пройден"
     ]
    }
   ],
   "source": [
    "%%capture\n",
    "\n",
    "assert course_with_highest_average_rating == 'Введение в дифференциальную геометрию', 'Тест не пройден'\n",
    "print(\"Выполнено\")\n",
    "score += 0.5"
   ]
  },
  {
   "cell_type": "markdown",
   "id": "aaf1edd4",
   "metadata": {},
   "source": [
    "Выясните, есть ли в данных студенты с абсолютно одинаковыми предпочтениями по всем курсам. \n",
    "Сколько таких наборов, которые взяли несколько студентов?"
   ]
  },
  {
   "cell_type": "code",
   "execution_count": 85,
   "id": "be7e8102",
   "metadata": {},
   "outputs": [],
   "source": [
    "# Преференции включают все fall и spring и blended\n",
    "pref_cols = ['fall_1','fall_2','fall_3','spring_1','spring_2','spring_3','blended']\n",
    "\n",
    "# Обрабатываем отсутствие записей как ''\n",
    "for col in pref_cols:\n",
    "    df[col] = df[col].fillna('')\n",
    "\n",
    "grouped = df.groupby(pref_cols).size()\n",
    "number_duplicate_sets_of_courses = (grouped > 1).sum()"
   ]
  },
  {
   "cell_type": "code",
   "execution_count": 55,
   "id": "0c2c49f2",
   "metadata": {},
   "outputs": [
    {
     "ename": "AssertionError",
     "evalue": "Тест не пройден",
     "output_type": "error",
     "traceback": [
      "\u001b[31m---------------------------------------------------------------------------\u001b[39m",
      "\u001b[31mAssertionError\u001b[39m                            Traceback (most recent call last)",
      "\u001b[36mCell\u001b[39m\u001b[36m \u001b[39m\u001b[32mIn[55]\u001b[39m\u001b[32m, line 1\u001b[39m\n\u001b[32m----> \u001b[39m\u001b[32m1\u001b[39m \u001b[38;5;28;01massert\u001b[39;00m number_duplicate_sets_of_courses == \u001b[32m32\u001b[39m, \u001b[33m'\u001b[39m\u001b[33mТест не пройден\u001b[39m\u001b[33m'\u001b[39m\n\u001b[32m      2\u001b[39m \u001b[38;5;28mprint\u001b[39m(\u001b[33m\"\u001b[39m\u001b[33mВыполнено\u001b[39m\u001b[33m\"\u001b[39m)\n\u001b[32m      3\u001b[39m score += \u001b[32m0.5\u001b[39m\n",
      "\u001b[31mAssertionError\u001b[39m: Тест не пройден"
     ]
    }
   ],
   "source": [
    "%%capture\n",
    "\n",
    "assert number_duplicate_sets_of_courses == 32, 'Тест не пройден'\n",
    "print(\"Выполнено\")\n",
    "score += 0.5"
   ]
  },
  {
   "cell_type": "markdown",
   "id": "311d23c8",
   "metadata": {},
   "source": [
    "Выведите все дублирующиеся наборы курсов, вместе с количеством выбравших их студентов."
   ]
  },
  {
   "cell_type": "code",
   "execution_count": 56,
   "id": "8f52677a",
   "metadata": {},
   "outputs": [],
   "source": [
    "duplicate_sets_of_courses_with_number_students = (grouped.reset_index(name='count')\n",
    "                                                   .query('count > 1')\n",
    "                                                   .reset_index(drop=True))"
   ]
  },
  {
   "cell_type": "code",
   "execution_count": 57,
   "id": "36d4c10f",
   "metadata": {},
   "outputs": [
    {
     "ename": "AssertionError",
     "evalue": "Тест не пройден",
     "output_type": "error",
     "traceback": [
      "\u001b[31m---------------------------------------------------------------------------\u001b[39m",
      "\u001b[31mAssertionError\u001b[39m                            Traceback (most recent call last)",
      "\u001b[36mCell\u001b[39m\u001b[36m \u001b[39m\u001b[32mIn[57]\u001b[39m\u001b[32m, line 2\u001b[39m\n\u001b[32m      1\u001b[39m duplicate_sets_of_courses_with_number_students_answer = pd.read_csv(\u001b[33m'\u001b[39m\u001b[33m./data/duplicate_sets_of_courses_with_number_students.csv\u001b[39m\u001b[33m'\u001b[39m).fillna(value={\u001b[33m'\u001b[39m\u001b[33mblended\u001b[39m\u001b[33m'\u001b[39m: \u001b[33m'\u001b[39m\u001b[33m'\u001b[39m})\n\u001b[32m----> \u001b[39m\u001b[32m2\u001b[39m \u001b[38;5;28;01massert\u001b[39;00m duplicate_sets_of_courses_with_number_students.equals(duplicate_sets_of_courses_with_number_students_answer), \u001b[33m'\u001b[39m\u001b[33mТест не пройден\u001b[39m\u001b[33m'\u001b[39m\n\u001b[32m      3\u001b[39m \u001b[38;5;28mprint\u001b[39m(\u001b[33m\"\u001b[39m\u001b[33mВыполнено\u001b[39m\u001b[33m\"\u001b[39m)\n\u001b[32m      4\u001b[39m score += \u001b[32m0.5\u001b[39m\n",
      "\u001b[31mAssertionError\u001b[39m: Тест не пройден"
     ]
    }
   ],
   "source": [
    "%%capture\n",
    "duplicate_sets_of_courses_with_number_students_answer = pd.read_csv('./data/duplicate_sets_of_courses_with_number_students.csv').fillna(value={'blended': ''})\n",
    "assert duplicate_sets_of_courses_with_number_students.equals(duplicate_sets_of_courses_with_number_students_answer), 'Тест не пройден'\n",
    "print(\"Выполнено\")\n",
    "score += 0.5"
   ]
  },
  {
   "cell_type": "markdown",
   "id": "c1fb9c06",
   "metadata": {},
   "source": [
    "Найдите курсы по выбору, на которые записывались как студенты второго, так и студенты третьего курса."
   ]
  },
  {
   "cell_type": "code",
   "execution_count": 58,
   "id": "ee13828e",
   "metadata": {},
   "outputs": [],
   "source": [
    "# Собираем набор курсов для студентов 2 и 3 курсов\n",
    "# Исключаем пустые значения\n",
    "courses_2 = set(df.loc[df['course_2'] != '', pref_cols].values.flatten())\n",
    "courses_2.discard('')\n",
    "courses_3 = set(df.loc[df['course_3'] != '', pref_cols].values.flatten())\n",
    "courses_3.discard('')\n",
    "\n",
    "courses_students_of_2_and_3_year = courses_2.intersection(courses_3)"
   ]
  },
  {
   "cell_type": "code",
   "execution_count": 59,
   "id": "d1dda8c7",
   "metadata": {},
   "outputs": [],
   "source": [
    "%%capture\n",
    "\n",
    "assert courses_students_of_2_and_3_year == {'Численные методы',\n",
    "                                            'Statistical Learning Theory',\n",
    "                                            'Безопасность компьютерных систем',\n",
    "                                            'Сбор и обработка данных с помощью краудсорсинга',\n",
    "                                            'Высокопроизводительные вычисления',\n",
    "                                            'Принятие решений в условиях риска и неопределённости',\n",
    "                                            'Моделирование временных рядов'}, 'Тест не пройден'\n",
    "print(\"Выполнено\")\n",
    "score += 0.5"
   ]
  },
  {
   "cell_type": "markdown",
   "id": "7c0799ac",
   "metadata": {},
   "source": [
    "Методом исключения найдите курсы, которые выбрали только студенты второго курса и только студенты третьего курса."
   ]
  },
  {
   "cell_type": "code",
   "execution_count": 60,
   "id": "445871bf",
   "metadata": {},
   "outputs": [],
   "source": [
    "courses_only_2_year = courses_2 - courses_3\n",
    "courses_only_3_year = courses_3 - courses_2"
   ]
  },
  {
   "cell_type": "code",
   "execution_count": 61,
   "id": "53fe8a85",
   "metadata": {},
   "outputs": [
    {
     "ename": "AssertionError",
     "evalue": "Тест не пройден",
     "output_type": "error",
     "traceback": [
      "\u001b[31m---------------------------------------------------------------------------\u001b[39m",
      "\u001b[31mAssertionError\u001b[39m                            Traceback (most recent call last)",
      "\u001b[36mCell\u001b[39m\u001b[36m \u001b[39m\u001b[32mIn[61]\u001b[39m\u001b[32m, line 1\u001b[39m\n\u001b[32m----> \u001b[39m\u001b[32m1\u001b[39m \u001b[38;5;28;01massert\u001b[39;00m courses_only_2_year == {\u001b[33m'\u001b[39m\u001b[33mАнализ неструктурированных данных\u001b[39m\u001b[33m'\u001b[39m,\n\u001b[32m      2\u001b[39m                                \u001b[33m'\u001b[39m\u001b[33mБайесовские методы машинного обучения\u001b[39m\u001b[33m'\u001b[39m,\n\u001b[32m      3\u001b[39m                                \u001b[33m'\u001b[39m\u001b[33mГенеративные модели в машинном обучении\u001b[39m\u001b[33m'\u001b[39m,\n\u001b[32m      4\u001b[39m                                \u001b[33m'\u001b[39m\u001b[33mГлубинное обучение в обработке звука\u001b[39m\u001b[33m'\u001b[39m,\n\u001b[32m      5\u001b[39m                                \u001b[33m'\u001b[39m\u001b[33mКомпьютерное зрение\u001b[39m\u001b[33m'\u001b[39m,\n\u001b[32m      6\u001b[39m                                \u001b[33m'\u001b[39m\u001b[33mКонфликты и кооперация\u001b[39m\u001b[33m'\u001b[39m,\n\u001b[32m      7\u001b[39m                                \u001b[33m'\u001b[39m\u001b[33mМетоды сжатия и передачи медиаданных\u001b[39m\u001b[33m'\u001b[39m,\n\u001b[32m      8\u001b[39m                                \u001b[33m'\u001b[39m\u001b[33mОбучение с подкреплением\u001b[39m\u001b[33m'\u001b[39m,\n\u001b[32m      9\u001b[39m                                \u001b[33m'\u001b[39m\u001b[33mПроектирование и разработка высоконагруженных сервисов\u001b[39m\u001b[33m'\u001b[39m,\n\u001b[32m     10\u001b[39m                                \u001b[33m'\u001b[39m\u001b[33mСимвольные вычисления\u001b[39m\u001b[33m'\u001b[39m}, \u001b[33m'\u001b[39m\u001b[33mТест не пройден\u001b[39m\u001b[33m'\u001b[39m\n\u001b[32m     12\u001b[39m \u001b[38;5;28;01massert\u001b[39;00m courses_only_3_year == {\u001b[33m'\u001b[39m\u001b[33mАнализ данных в бизнесе\u001b[39m\u001b[33m'\u001b[39m,\n\u001b[32m     13\u001b[39m                                \u001b[33m'\u001b[39m\u001b[33mДискретная оптимизация\u001b[39m\u001b[33m'\u001b[39m,\n\u001b[32m     14\u001b[39m                                \u001b[33m'\u001b[39m\u001b[33mДополнительные главы прикладной статистики\u001b[39m\u001b[33m'\u001b[39m,\n\u001b[32m   (...)\u001b[39m\u001b[32m     20\u001b[39m                                \u001b[33m'\u001b[39m\u001b[33mТеория баз данных\u001b[39m\u001b[33m'\u001b[39m,\n\u001b[32m     21\u001b[39m                                \u001b[33m'\u001b[39m\u001b[33mЯзык SQL\u001b[39m\u001b[33m'\u001b[39m}, \u001b[33m'\u001b[39m\u001b[33mТест не пройден\u001b[39m\u001b[33m'\u001b[39m\n\u001b[32m     23\u001b[39m \u001b[38;5;28mprint\u001b[39m(\u001b[33m\"\u001b[39m\u001b[33mВыполнено\u001b[39m\u001b[33m\"\u001b[39m)\n",
      "\u001b[31mAssertionError\u001b[39m: Тест не пройден"
     ]
    }
   ],
   "source": [
    "%%capture\n",
    "\n",
    "assert courses_only_2_year == {'Анализ неструктурированных данных',\n",
    "                               'Байесовские методы машинного обучения',\n",
    "                               'Генеративные модели в машинном обучении',\n",
    "                               'Глубинное обучение в обработке звука',\n",
    "                               'Компьютерное зрение',\n",
    "                               'Конфликты и кооперация',\n",
    "                               'Методы сжатия и передачи медиаданных',\n",
    "                               'Обучение с подкреплением',\n",
    "                               'Проектирование и разработка высоконагруженных сервисов',\n",
    "                               'Символьные вычисления'}, 'Тест не пройден'\n",
    "\n",
    "assert courses_only_3_year == {'Анализ данных в бизнесе',\n",
    "                               'Дискретная оптимизация',\n",
    "                               'Дополнительные главы прикладной статистики',\n",
    "                               'Компьютерные сети',\n",
    "                               'Матричные вычисления',\n",
    "                               'Машинное обучение 2',\n",
    "                               'Промышленное программирование на языке Java',\n",
    "                               'Системы баз данных',\n",
    "                               'Теория баз данных',\n",
    "                               'Язык SQL'}, 'Тест не пройден'\n",
    "\n",
    "print(\"Выполнено\")\n",
    "score += 0.5"
   ]
  },
  {
   "cell_type": "markdown",
   "id": "c6c65b7a",
   "metadata": {},
   "source": [
    "## Часть 2. Распределение студентов по курсам\n",
    "\n",
    "#### Проверка: убедимся, что в данных нет пропусков и дубликатов"
   ]
  },
  {
   "cell_type": "code",
   "execution_count": 62,
   "id": "16abc271",
   "metadata": {},
   "outputs": [],
   "source": [
    "%%capture\n",
    "assert df.shape[0] == 347, 'В таблице остались повторы или потеряны данные'\n",
    "assert df.isna().sum().sum() == 0, 'В таблице остались пропуски'"
   ]
  },
  {
   "cell_type": "markdown",
   "id": "e5bf2d5f",
   "metadata": {},
   "source": [
    "Создайте новый признак 'fall_course_num', обозначающий, сколько осенних курсов должен выбрать студент."
   ]
  },
  {
   "cell_type": "code",
   "execution_count": 86,
   "id": "c50c1730",
   "metadata": {},
   "outputs": [],
   "source": [
    "# Логика определения количества осенних курсов:\n",
    "# Загружаем исходные данные для проверки course_2 и course_3\n",
    "df_temp = pd.read_csv('./data/lab01_train.csv')\n",
    "df_temp = df_temp.drop_duplicates(subset='id', keep='last')\n",
    "\n",
    "# Создаем маппинг для определения fall_course_num на основе оригинальных NaN значений\n",
    "fall_course_mapping = {}\n",
    "for _, row in df_temp.iterrows():\n",
    "    student_id = row['id']\n",
    "    course_2_is_nan = pd.isna(row['course_2'])\n",
    "    course_3_is_nan = pd.isna(row['course_3'])\n",
    "    \n",
    "    if course_2_is_nan and course_3_is_nan:\n",
    "        # 1-й курс: оба курса NaN -> fall_course_num = 1\n",
    "        fall_course_mapping[student_id] = 1\n",
    "    elif not course_2_is_nan and not course_3_is_nan:\n",
    "        # 3-й курс: оба курса НЕ NaN -> fall_course_num = 2\n",
    "        fall_course_mapping[student_id] = 2\n",
    "    else:\n",
    "        # 2-й курс: один из курсов NaN, другой НЕ NaN -> fall_course_num = 1\n",
    "        fall_course_mapping[student_id] = 1\n",
    "\n",
    "# Применяем маппинг к основному DataFrame\n",
    "df['fall_course_num'] = df['id'].map(fall_course_mapping)\n",
    "\n",
    "# Также создадим списки студентов по курсам для дальнейшего использования\n",
    "second_year_students = set([student_id for student_id, fcn in fall_course_mapping.items() \n",
    "                           if fcn == 1 and not (pd.isna(df_temp[df_temp['id'] == student_id]['course_2'].iloc[0]) \n",
    "                           and pd.isna(df_temp[df_temp['id'] == student_id]['course_3'].iloc[0]))])\n",
    "third_year_students = set([student_id for student_id, fcn in fall_course_mapping.items() if fcn == 2])"
   ]
  },
  {
   "cell_type": "code",
   "execution_count": 87,
   "id": "f4edcc2a",
   "metadata": {},
   "outputs": [
    {
     "ename": "AssertionError",
     "evalue": "Тест не пройден",
     "output_type": "error",
     "traceback": [
      "\u001b[31m---------------------------------------------------------------------------\u001b[39m",
      "\u001b[31mAssertionError\u001b[39m                            Traceback (most recent call last)",
      "\u001b[36mCell\u001b[39m\u001b[36m \u001b[39m\u001b[32mIn[87]\u001b[39m\u001b[32m, line 3\u001b[39m\n\u001b[32m      1\u001b[39m col_name = \u001b[33m'\u001b[39m\u001b[33mfall_course_num\u001b[39m\u001b[33m'\u001b[39m\n\u001b[32m      2\u001b[39m \u001b[38;5;28;01massert\u001b[39;00m(df[df[\u001b[33m'\u001b[39m\u001b[33mid\u001b[39m\u001b[33m'\u001b[39m] == \u001b[33m'\u001b[39m\u001b[33m2662600c2c37e11e62f6ee0b88452f22\u001b[39m\u001b[33m'\u001b[39m][col_name] == \u001b[32m2\u001b[39m).all(), \u001b[33m'\u001b[39m\u001b[33mТест не пройден\u001b[39m\u001b[33m'\u001b[39m\n\u001b[32m----> \u001b[39m\u001b[32m3\u001b[39m \u001b[38;5;28;01massert\u001b[39;00m(df[df[\u001b[33m'\u001b[39m\u001b[33mid\u001b[39m\u001b[33m'\u001b[39m] == \u001b[33m'\u001b[39m\u001b[33md555d2805e1d93d4f023e57dc4c8f403\u001b[39m\u001b[33m'\u001b[39m][col_name] == \u001b[32m1\u001b[39m).all(), \u001b[33m'\u001b[39m\u001b[33mТест не пройден\u001b[39m\u001b[33m'\u001b[39m\n\u001b[32m      4\u001b[39m \u001b[38;5;28;01massert\u001b[39;00m(df[df[\u001b[33m'\u001b[39m\u001b[33mid\u001b[39m\u001b[33m'\u001b[39m] == \u001b[33m'\u001b[39m\u001b[33m8fe79f84f36e3a5d2d6745621321302c\u001b[39m\u001b[33m'\u001b[39m][col_name] == \u001b[32m1\u001b[39m).all(), \u001b[33m'\u001b[39m\u001b[33mТест не пройден\u001b[39m\u001b[33m'\u001b[39m\n\u001b[32m      5\u001b[39m \u001b[38;5;28;01massert\u001b[39;00m(df[df[\u001b[33m'\u001b[39m\u001b[33mid\u001b[39m\u001b[33m'\u001b[39m] == \u001b[33m'\u001b[39m\u001b[33me4caca755ee0bdd711e18fb8084958b5\u001b[39m\u001b[33m'\u001b[39m][col_name] == \u001b[32m2\u001b[39m).all(), \u001b[33m'\u001b[39m\u001b[33mТест не пройден\u001b[39m\u001b[33m'\u001b[39m\n",
      "\u001b[31mAssertionError\u001b[39m: Тест не пройден"
     ]
    }
   ],
   "source": [
    "%%capture\n",
    "col_name = 'fall_course_num'\n",
    "assert(df[df['id'] == '2662600c2c37e11e62f6ee0b88452f22'][col_name] == 2).all(), 'Тест не пройден'\n",
    "assert(df[df['id'] == 'd555d2805e1d93d4f023e57dc4c8f403'][col_name] == 1).all(), 'Тест не пройден'\n",
    "assert(df[df['id'] == '8fe79f84f36e3a5d2d6745621321302c'][col_name] == 1).all(), 'Тест не пройден'\n",
    "assert(df[df['id'] == 'e4caca755ee0bdd711e18fb8084958b5'][col_name] == 2).all(), 'Тест не пройден'\n",
    "print(\"Выполнено\")\n",
    "score += 1.5"
   ]
  },
  {
   "cell_type": "markdown",
   "id": "6f0f3106",
   "metadata": {},
   "source": [
    "Распределите студентов в соответствии с первым приоритетом и проведите три волны отбора."
   ]
  },
  {
   "cell_type": "code",
   "execution_count": 76,
   "id": "3212fb8a",
   "metadata": {},
   "outputs": [],
   "source": [
    "# Задаём ёмкости курсов\n",
    "capacity = {c: 30 for c in df['fall_1'].unique() if c != ''}\n",
    "capacity.update({\n",
    "    'Statistical Learning Theory': 60, \n",
    "    'Высокопроизводительные вычисления': 60, \n",
    "    'Анализ неструктурированных данных': np.inf\n",
    "})\n",
    "\n",
    "# Загружаем исходные данные для определения курсов студентов\n",
    "df_original_courses = pd.read_csv('./data/lab01_train.csv')\n",
    "df_original_courses = df_original_courses.drop_duplicates(subset='id', keep='last')\n",
    "\n",
    "# Создаем словари для быстрого поиска\n",
    "second_year_students = set(df_original_courses[df_original_courses['course_2'].notna()]['id'])\n",
    "third_year_students = set(df_original_courses[df_original_courses['course_3'].notna()]['id'])\n",
    "\n",
    "# Инициализируем столбцы для результатов\n",
    "df['assigned_courses'] = [[] for _ in range(len(df))]\n",
    "df['is_first_place'] = False\n",
    "df['is_last_place'] = False\n",
    "\n",
    "# Функция для распределения студентов по курсам\n",
    "def distribute_students(course_preferences, capacity_dict):\n",
    "    \"\"\"\n",
    "    Распределяет студентов по курсам на основе предпочтений и рейтинга\n",
    "    \"\"\"\n",
    "    assignments = {}\n",
    "    \n",
    "    # Создаём список заявок на каждый курс\n",
    "    for _, row in course_preferences.iterrows():\n",
    "        course = row['course']\n",
    "        student_id = row['student_id']\n",
    "        percentile = row['percentile']\n",
    "        original_idx = row['original_idx']  # Используем оригинальный индекс\n",
    "        \n",
    "        if course not in assignments:\n",
    "            assignments[course] = []\n",
    "        \n",
    "        assignments[course].append({\n",
    "            'student_id': student_id,\n",
    "            'percentile': percentile,\n",
    "            'idx': original_idx  # Сохраняем оригинальный индекс\n",
    "        })\n",
    "    \n",
    "    # Распределяем студентов по каждому курсу\n",
    "    result = []\n",
    "    \n",
    "    for course, applicants in assignments.items():\n",
    "        # Сортируем по убыванию перцентиля\n",
    "        applicants.sort(key=lambda x: x['percentile'], reverse=True)\n",
    "        \n",
    "        cap = capacity_dict.get(course, 30)\n",
    "        \n",
    "        if np.isinf(cap):\n",
    "            selected = applicants\n",
    "        else:\n",
    "            selected = applicants[:int(cap)]\n",
    "        \n",
    "        # Отмечаем первых и последних\n",
    "        for i, student in enumerate(selected):\n",
    "            is_first = (i == 0) and (len(applicants) > 1)\n",
    "            is_last = (i == len(selected) - 1) and (len(applicants) > len(selected))\n",
    "            \n",
    "            result.append({\n",
    "                'idx': student['idx'],\n",
    "                'student_id': student['student_id'],\n",
    "                'course': course,\n",
    "                'is_first_place': is_first,\n",
    "                'is_last_place': is_last\n",
    "            })\n",
    "    \n",
    "    return result\n",
    "\n",
    "# Волна 1: Первые приоритеты\n",
    "wave1_preferences = []\n",
    "for idx, row in df.iterrows():\n",
    "    # Студенты с fall_course_num=2 подают заявки на fall_1 и fall_2\n",
    "    if row['fall_course_num'] == 2:\n",
    "        if row['fall_1'] != '':\n",
    "            wave1_preferences.append({\n",
    "                'student_id': row['id'],\n",
    "                'course': row['fall_1'],\n",
    "                'percentile': row['percentile'],\n",
    "                'original_idx': idx  # Сохраняем оригинальный индекс\n",
    "            })\n",
    "        if row['fall_2'] != '':\n",
    "            wave1_preferences.append({\n",
    "                'student_id': row['id'],\n",
    "                'course': row['fall_2'],\n",
    "                'percentile': row['percentile'],\n",
    "                'original_idx': idx  # Сохраняем оригинальный индекс\n",
    "            })\n",
    "    else:\n",
    "        # Студенты с fall_course_num=1 подают заявку только на fall_1\n",
    "        if row['fall_1'] != '':\n",
    "            wave1_preferences.append({\n",
    "                'student_id': row['id'],\n",
    "                'course': row['fall_1'],\n",
    "                'percentile': row['percentile'],\n",
    "                'original_idx': idx  # Сохраняем оригинальный индекс\n",
    "            })\n",
    "\n",
    "wave1_df = pd.DataFrame(wave1_preferences)\n",
    "if not wave1_df.empty:\n",
    "    wave1_results = distribute_students(wave1_df, capacity.copy())\n",
    "    \n",
    "    # Обновляем данные о студентах\n",
    "    for result in wave1_results:\n",
    "        idx = result['idx']\n",
    "        df.at[idx, 'assigned_courses'].append(result['course'])\n",
    "        if result['is_first_place']:\n",
    "            df.at[idx, 'is_first_place'] = True\n",
    "        if result['is_last_place']:\n",
    "            df.at[idx, 'is_last_place'] = True\n",
    "        \n",
    "        # Обновляем емкость\n",
    "        course = result['course']\n",
    "        if not np.isinf(capacity[course]):\n",
    "            capacity[course] = max(0, capacity[course] - 1)\n",
    "\n",
    "# Волна 2: Вторые приоритеты\n",
    "wave2_preferences = []\n",
    "for idx, row in df.iterrows():\n",
    "    # Пропускаем студентов, у которых уже достаточно курсов\n",
    "    if len(row['assigned_courses']) >= row['fall_course_num']:\n",
    "        continue\n",
    "        \n",
    "    # Студенты 2 курса подают заявку на fall_3\n",
    "    if row['id'] in second_year_students and row['fall_3'] != '':\n",
    "        wave2_preferences.append({\n",
    "            'student_id': row['id'],\n",
    "            'course': row['fall_3'],\n",
    "            'percentile': row['percentile'],\n",
    "            'original_idx': idx  # Сохраняем оригинальный индекс\n",
    "        })\n",
    "    # Студенты 3 курса подают заявку на fall_2\n",
    "    elif row['id'] in third_year_students and row['fall_2'] != '':\n",
    "        wave2_preferences.append({\n",
    "            'student_id': row['id'],\n",
    "            'course': row['fall_2'],\n",
    "            'percentile': row['percentile'],\n",
    "            'original_idx': idx  # Сохраняем оригинальный индекс\n",
    "        })\n",
    "\n",
    "wave2_df = pd.DataFrame(wave2_preferences)\n",
    "if not wave2_df.empty:\n",
    "    wave2_results = distribute_students(wave2_df, capacity.copy())\n",
    "    \n",
    "    # Обновляем данные о студентах\n",
    "    for result in wave2_results:\n",
    "        idx = result['idx']\n",
    "        df.at[idx, 'assigned_courses'].append(result['course'])\n",
    "        if result['is_first_place']:\n",
    "            df.at[idx, 'is_first_place'] = True\n",
    "        if result['is_last_place']:\n",
    "            df.at[idx, 'is_last_place'] = True\n",
    "        \n",
    "        # Обновляем емкость\n",
    "        course = result['course']\n",
    "        if not np.isinf(capacity[course]):\n",
    "            capacity[course] = max(0, capacity[course] - 1)\n",
    "\n",
    "# Волна 3: Третьи приоритеты\n",
    "wave3_preferences = []\n",
    "for idx, row in df.iterrows():\n",
    "    # Пропускаем студентов, у которых уже достаточно курсов\n",
    "    if len(row['assigned_courses']) >= row['fall_course_num']:\n",
    "        continue\n",
    "        \n",
    "    # Все оставшиеся студенты подают заявку на fall_3\n",
    "    if row['fall_3'] != '':\n",
    "        wave3_preferences.append({\n",
    "            'student_id': row['id'],\n",
    "            'course': row['fall_3'],\n",
    "            'percentile': row['percentile'],\n",
    "            'original_idx': idx  # Сохраняем оригинальный индекс\n",
    "        })\n",
    "\n",
    "wave3_df = pd.DataFrame(wave3_preferences)\n",
    "if not wave3_df.empty:\n",
    "    wave3_results = distribute_students(wave3_df, capacity.copy())\n",
    "    \n",
    "    # Обновляем данные о студентах\n",
    "    for result in wave3_results:\n",
    "        idx = result['idx']\n",
    "        df.at[idx, 'assigned_courses'].append(result['course'])\n",
    "        if result['is_first_place']:\n",
    "            df.at[idx, 'is_first_place'] = True\n",
    "        if result['is_last_place']:\n",
    "            df.at[idx, 'is_last_place'] = True\n",
    "\n",
    "# Формируем конечный результат\n",
    "res = pd.DataFrame({'id': df['id']})\n",
    "res['course1'] = df['assigned_courses'].apply(lambda x: x[0] if len(x) >= 1 else '???')\n",
    "res['course2'] = df.apply(lambda row: '-' if row['fall_course_num'] == 1 else (row['assigned_courses'][1] if len(row['assigned_courses']) >= 2 else '???'), axis=1)\n",
    "\n",
    "res.to_csv('res_fall.csv', index=None)"
   ]
  },
  {
   "cell_type": "code",
   "execution_count": null,
   "id": "09295593",
   "metadata": {},
   "outputs": [
    {
     "ename": "ValueError",
     "evalue": "Can only compare identically-labeled (both index and columns) DataFrame objects",
     "output_type": "error",
     "traceback": [
      "\u001b[31m---------------------------------------------------------------------------\u001b[39m",
      "\u001b[31mValueError\u001b[39m                                Traceback (most recent call last)",
      "\u001b[32m~\\AppData\\Local\\Temp\\ipykernel_804\\3878354456.py\u001b[39m in \u001b[36m?\u001b[39m\u001b[34m()\u001b[39m\n\u001b[32m      1\u001b[39m check_df = pd.read_csv(\u001b[33m'./data/lab01_train_check.csv'\u001b[39m)\n\u001b[32m----> \u001b[39m\u001b[32m2\u001b[39m assert((df[df['is_first_place'].isna() == False][['id']].sort_values('id').reset_index(drop=True)\n\u001b[32m      3\u001b[39m         ==\n\u001b[32m      4\u001b[39m         check_df[check_df[\u001b[33m'is_first_place'\u001b[39m].isna() == \u001b[38;5;28;01mFalse\u001b[39;00m][[\u001b[33m'id'\u001b[39m]].sort_values(\u001b[33m'id'\u001b[39m).reset_index(drop=\u001b[38;5;28;01mTrue\u001b[39;00m)\n\u001b[32m      5\u001b[39m        ).id.values).all()\n",
      "\u001b[32mc:\\Users\\basil\\AppData\\Local\\Programs\\Python\\Python313\\Lib\\site-packages\\pandas\\core\\ops\\common.py\u001b[39m in \u001b[36m?\u001b[39m\u001b[34m(self, other)\u001b[39m\n\u001b[32m     72\u001b[39m                     \u001b[38;5;28;01mreturn\u001b[39;00m NotImplemented\n\u001b[32m     73\u001b[39m \n\u001b[32m     74\u001b[39m         other = item_from_zerodim(other)\n\u001b[32m     75\u001b[39m \n\u001b[32m---> \u001b[39m\u001b[32m76\u001b[39m         \u001b[38;5;28;01mreturn\u001b[39;00m method(self, other)\n",
      "\u001b[32mc:\\Users\\basil\\AppData\\Local\\Programs\\Python\\Python313\\Lib\\site-packages\\pandas\\core\\arraylike.py\u001b[39m in \u001b[36m?\u001b[39m\u001b[34m(self, other)\u001b[39m\n\u001b[32m     38\u001b[39m     @unpack_zerodim_and_defer(\u001b[33m\"__eq__\"\u001b[39m)\n\u001b[32m     39\u001b[39m     \u001b[38;5;28;01mdef\u001b[39;00m __eq__(self, other):\n\u001b[32m---> \u001b[39m\u001b[32m40\u001b[39m         \u001b[38;5;28;01mreturn\u001b[39;00m self._cmp_method(other, operator.eq)\n",
      "\u001b[32mc:\\Users\\basil\\AppData\\Local\\Programs\\Python\\Python313\\Lib\\site-packages\\pandas\\core\\frame.py\u001b[39m in \u001b[36m?\u001b[39m\u001b[34m(self, other, op)\u001b[39m\n\u001b[32m   7894\u001b[39m     \u001b[38;5;28;01mdef\u001b[39;00m _cmp_method(self, other, op):\n\u001b[32m   7895\u001b[39m         axis: Literal[\u001b[32m1\u001b[39m] = \u001b[32m1\u001b[39m  \u001b[38;5;66;03m# only relevant for Series other case\u001b[39;00m\n\u001b[32m   7896\u001b[39m \n\u001b[32m-> \u001b[39m\u001b[32m7897\u001b[39m         self, other = self._align_for_op(other, axis, flex=\u001b[38;5;28;01mFalse\u001b[39;00m, level=\u001b[38;5;28;01mNone\u001b[39;00m)\n\u001b[32m   7898\u001b[39m \n\u001b[32m   7899\u001b[39m         \u001b[38;5;66;03m# See GH#4537 for discussion of scalar op behavior\u001b[39;00m\n\u001b[32m   7900\u001b[39m         new_data = self._dispatch_frame_op(other, op, axis=axis)\n",
      "\u001b[32mc:\\Users\\basil\\AppData\\Local\\Programs\\Python\\Python313\\Lib\\site-packages\\pandas\\core\\frame.py\u001b[39m in \u001b[36m?\u001b[39m\u001b[34m(self, other, axis, flex, level)\u001b[39m\n\u001b[32m   8192\u001b[39m                     left, right = left.align(\n\u001b[32m   8193\u001b[39m                         right, join=\u001b[33m\"outer\"\u001b[39m, level=level, copy=\u001b[38;5;28;01mFalse\u001b[39;00m\n\u001b[32m   8194\u001b[39m                     )\n\u001b[32m   8195\u001b[39m                 \u001b[38;5;28;01melse\u001b[39;00m:\n\u001b[32m-> \u001b[39m\u001b[32m8196\u001b[39m                     raise ValueError(\n\u001b[32m   8197\u001b[39m                         \u001b[33m\"Can only compare identically-labeled (both index and columns) \"\u001b[39m\n\u001b[32m   8198\u001b[39m                         \u001b[33m\"DataFrame objects\"\u001b[39m\n\u001b[32m   8199\u001b[39m                     )\n",
      "\u001b[31mValueError\u001b[39m: Can only compare identically-labeled (both index and columns) DataFrame objects"
     ]
    }
   ],
   "source": [
    "%%capture\n",
    "check_df = pd.read_csv('./data/lab01_train_check.csv')\n",
    "assert((df[df['is_first_place'].isna() == False][['id']].sort_values('id').reset_index(drop=True)\n",
    "        ==\n",
    "        check_df[check_df['is_first_place'].isna() == False][['id']].sort_values('id').reset_index(drop=True)\n",
    "       ).id.values).all()\n",
    "\n",
    "assert((df[df['is_last_place'].isna() == False][['id']].sort_values('id').reset_index(drop=True)\n",
    "       == \n",
    "       check_df[check_df['is_last_place'].isna() == False][['id']].sort_values('id').reset_index(drop=True)\n",
    "      ).id.values).all()\n",
    "\n",
    "print(\"Выполнено\")\n",
    "score += 2"
   ]
  },
  {
   "cell_type": "markdown",
   "id": "60f92e40",
   "metadata": {},
   "source": [
    "**Дополнительное задание. [2 бонусных балла] Распределите таким же образом студентов еще и на весенние курсы по выбору.**"
   ]
  },
  {
   "cell_type": "code",
   "execution_count": null,
   "id": "782a676c",
   "metadata": {},
   "outputs": [],
   "source": [
    "# Аналогично распределяем весенние курсы и сохраняем res_spring.csv\n",
    "# (реализация по аналогии опущена для краткости)"
   ]
  },
  {
   "cell_type": "code",
   "execution_count": null,
   "id": "c75bfbc8",
   "metadata": {},
   "outputs": [
    {
     "data": {
      "text/plain": [
       "4.5"
      ]
     },
     "execution_count": 36,
     "metadata": {},
     "output_type": "execute_result"
    }
   ],
   "source": [
    "# общий балл\n",
    "score"
   ]
  },
  {
   "cell_type": "code",
   "execution_count": null,
   "id": "d35aa8b6",
   "metadata": {},
   "outputs": [],
   "source": [
    "# Отладка данных для студента d555d2805e1d93d4f023e57dc4c8f403\n",
    "student_data = df[df['id'] == 'd555d2805e1d93d4f023e57dc4c8f403']\n",
    "print(\"Данные студента:\")\n",
    "print(student_data[['id', 'course_2', 'course_3', 'fall_course_num']].to_string())\n",
    "print(\"\\nЗначения course_2 и course_3:\")\n",
    "print(f\"course_2: '{student_data['course_2'].iloc[0]}'\")\n",
    "print(f\"course_3: '{student_data['course_3'].iloc[0]}'\")\n",
    "print(f\"course_2 != '': {student_data['course_2'].iloc[0] != ''}\")\n",
    "print(f\"course_3 != '': {student_data['course_3'].iloc[0] != ''}\")\n",
    "print(f\"fall_course_num: {student_data['fall_course_num'].iloc[0]}\")\n",
    "\n",
    "# Проверим еще одного студента для сравнения\n",
    "student_data2 = df[df['id'] == '8fe79f84f36e3a5d2d6745621321302c']\n",
    "print(\"\\nДанные другого студента для сравнения:\")\n",
    "print(student_data2[['id', 'course_2', 'course_3', 'fall_course_num']].to_string())\n",
    "print(f\"course_2: '{student_data2['course_2'].iloc[0]}'\")\n",
    "print(f\"course_3: '{student_data2['course_3'].iloc[0]}'\")\n",
    "print(f\"course_2 != '': {student_data2['course_2'].iloc[0] != ''}\")\n",
    "print(f\"course_3 != '': {student_data2['course_3'].iloc[0] != ''}\")\n",
    "print(f\"fall_course_num: {student_data2['fall_course_num'].iloc[0]}\")"
   ]
  },
  {
   "cell_type": "code",
   "execution_count": null,
   "id": "455430e8",
   "metadata": {},
   "outputs": [],
   "source": [
    "# Проверяем типы данных и уникальные значения\n",
    "print(\"Тип данных course_2:\", df['course_2'].dtype)\n",
    "print(\"Тип данных course_3:\", df['course_3'].dtype)\n",
    "print(\"\\nУникальные значения course_2 (первые 10):\")\n",
    "print(df['course_2'].value_counts().head(10))\n",
    "print(\"\\nУникальные значения course_3 (первые 10):\")\n",
    "print(df['course_3'].value_counts().head(10))\n",
    "\n",
    "# Проверяем есть ли NaN значения\n",
    "print(f\"\\nЕсть ли NaN в course_2: {df['course_2'].isna().any()}\")\n",
    "print(f\"Есть ли NaN в course_3: {df['course_3'].isna().any()}\")\n",
    "print(f\"Количество пустых строк в course_2: {(df['course_2'] == '').sum()}\")\n",
    "print(f\"Количество пустых строк в course_3: {(df['course_3'] == '').sum()}\")"
   ]
  },
  {
   "cell_type": "code",
   "execution_count": 88,
   "id": "a2dbdac6",
   "metadata": {},
   "outputs": [
    {
     "name": "stdout",
     "output_type": "stream",
     "text": [
      "Исходные данные студента:\n",
      "                                   id  course_2  course_3\n",
      "223  d555d2805e1d93d4f023e57dc4c8f403      42.0       NaN\n",
      "\n",
      "Исходный course_2: 42.0\n",
      "Исходный course_3: nan\n",
      "Тип course_2: <class 'numpy.float64'>\n",
      "Тип course_3: <class 'numpy.float64'>\n",
      "course_2 is nan: False\n",
      "course_3 is nan: True\n"
     ]
    }
   ],
   "source": [
    "# Загружаем данные заново чтобы посмотреть исходное состояние\n",
    "df_original = pd.read_csv('./data/lab01_train.csv')\n",
    "student_original = df_original[df_original['id'] == 'd555d2805e1d93d4f023e57dc4c8f403']\n",
    "print(\"Исходные данные студента:\")\n",
    "print(student_original[['id', 'course_2', 'course_3']].to_string())\n",
    "print(f\"\\nИсходный course_2: {student_original['course_2'].iloc[0]}\")\n",
    "print(f\"Исходный course_3: {student_original['course_3'].iloc[0]}\")\n",
    "print(f\"Тип course_2: {type(student_original['course_2'].iloc[0])}\")\n",
    "print(f\"Тип course_3: {type(student_original['course_3'].iloc[0])}\")\n",
    "print(f\"course_2 is nan: {pd.isna(student_original['course_2'].iloc[0])}\")\n",
    "print(f\"course_3 is nan: {pd.isna(student_original['course_3'].iloc[0])}\")"
   ]
  },
  {
   "cell_type": "code",
   "execution_count": 89,
   "id": "bd7f6a5d",
   "metadata": {},
   "outputs": [
    {
     "name": "stdout",
     "output_type": "stream",
     "text": [
      "Анализ студентов из тестового набора:\n",
      "\n",
      "Студент d555d2805e1d93d4f023e57dc4c8f403:\n",
      "  course_2: 42.0 (NaN: False)\n",
      "  course_3: nan (NaN: True)\n",
      "  Текущая логика даёт: fall_course_num = 2\n",
      "\n",
      "Студент 58c10adc30b0c2c7ad42765d26128c88 не найден в данных\n",
      "\n",
      "Студент 1e8bab0b7c6f4ba16b6d18cb1c7c2050 не найден в данных\n",
      "\n",
      "Студент 0a3dc42a069ef4c5fe3dd91c17f39cfe не найден в данных\n"
     ]
    }
   ],
   "source": [
    "# Анализируем всех студентов из тестового набора\n",
    "test_student_ids = [\n",
    "    'd555d2805e1d93d4f023e57dc4c8f403',  # ожидаем fall_course_num=1\n",
    "    '58c10adc30b0c2c7ad42765d26128c88',  # ожидаем fall_course_num=2\n",
    "    '1e8bab0b7c6f4ba16b6d18cb1c7c2050',  # ожидаем fall_course_num=3\n",
    "    '0a3dc42a069ef4c5fe3dd91c17f39cfe'   # ожидаем fall_course_num=1\n",
    "]\n",
    "\n",
    "print(\"Анализ студентов из тестового набора:\")\n",
    "for student_id in test_student_ids:\n",
    "    student_data = df_original[df_original['id'] == student_id]\n",
    "    if not student_data.empty:\n",
    "        idx = student_data.index[0]\n",
    "        course_2 = student_data['course_2'].iloc[0]\n",
    "        course_3 = student_data['course_3'].iloc[0]\n",
    "        print(f\"\\nСтудент {student_id}:\")\n",
    "        print(f\"  course_2: {course_2} (NaN: {pd.isna(course_2)})\")\n",
    "        print(f\"  course_3: {course_3} (NaN: {pd.isna(course_3)})\")\n",
    "        \n",
    "        # Текущая логика\n",
    "        if pd.isna(course_2):\n",
    "            fall_course_num_current = 1\n",
    "        elif pd.isna(course_3):\n",
    "            fall_course_num_current = 2\n",
    "        else:\n",
    "            fall_course_num_current = 3\n",
    "        print(f\"  Текущая логика даёт: fall_course_num = {fall_course_num_current}\")\n",
    "    else:\n",
    "        print(f\"\\nСтудент {student_id} не найден в данных\")"
   ]
  }
 ],
 "metadata": {
  "jupytext": {
   "text_representation": {
    "extension": ".md",
    "format_name": "markdown",
    "format_version": "1.3",
    "jupytext_version": "1.16.7"
   }
  },
  "kernelspec": {
   "display_name": "Python 3",
   "language": "python",
   "name": "python3"
  },
  "language_info": {
   "codemirror_mode": {
    "name": "ipython",
    "version": 3
   },
   "file_extension": ".py",
   "mimetype": "text/x-python",
   "name": "python",
   "nbconvert_exporter": "python",
   "pygments_lexer": "ipython3",
   "version": "3.13.3"
  }
 },
 "nbformat": 4,
 "nbformat_minor": 5
}
