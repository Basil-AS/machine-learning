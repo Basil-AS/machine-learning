{
 "cells": [
  {
   "cell_type": "markdown",
   "id": "ab8d8217",
   "metadata": {},
   "source": [
    "---\n",
    "jupyter:\n",
    "  jupytext:\n",
    "    text_representation:\n",
    "      extension: .md\n",
    "      format_name: markdown\n",
    "      format_version: '1.3'\n",
    "      jupytext_version: 1.16.7\n",
    "  kernelspec:\n",
    "    display_name: Python 3 (ipykernel)\n",
    "    language: python\n",
    "    name: python3\n",
    "---\n",
    "\n",
    "# Лабораторная работа 1. Пакет NumPy\n",
    "\n",
    "Продолжительность работы: - 4 часа.\n",
    "\n",
    "Мягкий дедлайн (10 баллов): 6.03.2025\n",
    "\n",
    "Жесткий дедлайн (5 баллов): 20.03.2025\n",
    "\n",
    "Оценка за каждое задание указана в комментариях перед заданием.\n",
    "\n",
    "Задание выполняется самостоятельно, в противном случае все причастные получат 0 баллов :)\n",
    "Если вы нашли решение любого из заданий (или его части) в открытом источнике, необходимо указать ссылку на этот источник в отдельном блоке в конце своей работы. \n",
    "В противном случае **работа также будет оценена в 0 баллов**.\n",
    "\n",
    "При выполнении заданий запрещено использовать **while**, **for**, **if**. \n",
    "Все операции должны выполняться с помощью numpy. \n",
    "Напомним, что использование, например, max вместо np.max также является неоптимальным шагом.\n",
    "Решение будет засчитано, если оно удовлетворяет условиям выше и проходит asserts.\n"
   ]
  },
  {
   "cell_type": "code",
   "execution_count": 1,
   "id": "6a1d2d77",
   "metadata": {},
   "outputs": [],
   "source": [
    "import numpy as np\n",
    "\n",
    "score = 0"
   ]
  },
  {
   "cell_type": "markdown",
   "id": "4a261cb8",
   "metadata": {},
   "source": [
    "## Задание 1 (1 балл)"
   ]
  },
  {
   "cell_type": "code",
   "execution_count": 2,
   "id": "29249c65",
   "metadata": {},
   "outputs": [],
   "source": [
    "def max_after_zero(x: np.array) -> int:\n",
    "    \"\"\"\n",
    "    Задание: найти максимальный элемент массива среди элементов, которым предшествует ноль\n",
    "    \"\"\"\n",
    "    # Находим все элементы, следующие за нулем\n",
    "    follows = x[:-1][x[:-1] == 0]\n",
    "    elements = x[1:][x[:-1] == 0]\n",
    "    return np.max(elements)"
   ]
  },
  {
   "cell_type": "code",
   "execution_count": 3,
   "id": "ec83a193",
   "metadata": {},
   "outputs": [
    {
     "name": "stdout",
     "output_type": "stream",
     "text": [
      "Выполнено\n"
     ]
    }
   ],
   "source": [
    "# Тесты для Задания 1\n",
    "x = np.array([0, 1, 12, 0, 6, 0, 10, 0])\n",
    "assert max_after_zero(x) == 10, 'Тест не пройден'\n",
    "\n",
    "x = np.array([0, 3, 2, 0, 8, 0, 1, 10])\n",
    "assert max_after_zero(x) == 8, 'Тест не пройден'\n",
    "\n",
    "print(\"Выполнено\")\n",
    "score += 1"
   ]
  },
  {
   "cell_type": "markdown",
   "id": "0c4980cf",
   "metadata": {},
   "source": [
    "## Задание 2 (1 балл)"
   ]
  },
  {
   "cell_type": "code",
   "execution_count": 4,
   "id": "f07f210e",
   "metadata": {},
   "outputs": [],
   "source": [
    "def block_matrix(block: np.array) -> np.array:\n",
    "    \"\"\"\n",
    "    Задание: построить блочную матрицу из четырех блоков, где каждый блок представляет собой заданную матрицу\n",
    "    \"\"\"\n",
    "    return np.tile(block, (2, 2))"
   ]
  },
  {
   "cell_type": "code",
   "execution_count": 5,
   "id": "5c18d120",
   "metadata": {},
   "outputs": [
    {
     "name": "stdout",
     "output_type": "stream",
     "text": [
      "Выполнено\n"
     ]
    }
   ],
   "source": [
    "# Тесты для Задания 2\n",
    "block = np.array([[1, 3, 3], [7, 0, 0]])\n",
    "assert np.allclose(\n",
    "    block_matrix(block),\n",
    "    np.array([[1, 3, 3, 1, 3, 3],\n",
    "              [7, 0, 0, 7, 0, 0],\n",
    "              [1, 3, 3, 1, 3, 3],\n",
    "              [7, 0, 0, 7, 0, 0]])\n",
    "), 'Тест не пройден'\n",
    "\n",
    "print(\"Выполнено\")\n",
    "score += 1"
   ]
  },
  {
   "cell_type": "markdown",
   "id": "8d1a098e",
   "metadata": {},
   "source": [
    "## Задание 3 (1 балл)"
   ]
  },
  {
   "cell_type": "code",
   "execution_count": 6,
   "id": "e7300faa",
   "metadata": {},
   "outputs": [],
   "source": [
    "def diag_prod(matrix: np.array) -> int:\n",
    "    \"\"\"\n",
    "    Задание: вычислить произведение всех ненулевых диагональных элементов квадратной матрицы\n",
    "    \"\"\"\n",
    "    diag = np.diag(matrix)\n",
    "    non_zero = diag[diag != 0]\n",
    "    return np.prod(non_zero)"
   ]
  },
  {
   "cell_type": "code",
   "execution_count": 7,
   "id": "15ed52d7",
   "metadata": {},
   "outputs": [
    {
     "name": "stdout",
     "output_type": "stream",
     "text": [
      "Выполнено\n"
     ]
    }
   ],
   "source": [
    "# Тесты для Задания 3\n",
    "matrix = np.array([[0, 1, 2, 3],\n",
    "                   [4, 5, 6, 7],\n",
    "                   [8, 9, 10, 11],\n",
    "                   [12, 13, 14, 15]])\n",
    "assert diag_prod(matrix) == 750, 'Тест не пройден'\n",
    "\n",
    "print(\"Выполнено\")\n",
    "score += 1"
   ]
  },
  {
   "cell_type": "markdown",
   "id": "8771d146",
   "metadata": {},
   "source": [
    "## Задание 4 (1 балл)"
   ]
  },
  {
   "cell_type": "code",
   "execution_count": 8,
   "id": "c2f4a841",
   "metadata": {},
   "outputs": [],
   "source": [
    "from typing import Tuple\n",
    "\n",
    "class StandardScaler:\n",
    "    \"\"\"\n",
    "    Задание: класс реализует StandardScaler из библиотеки sklearn\n",
    "    \"\"\"\n",
    "    def fit(self, X: np.array) -> None:\n",
    "        self.mean_ = np.mean(X, axis=0)\n",
    "        self.var_ = np.var(X, axis=0)\n",
    "\n",
    "    def transform(self, X: np.array) -> np.array:\n",
    "        sigma = np.sqrt(self.var_)\n",
    "        return (X - self.mean_) / sigma"
   ]
  },
  {
   "cell_type": "code",
   "execution_count": 9,
   "id": "3a6e5aa4",
   "metadata": {},
   "outputs": [
    {
     "name": "stdout",
     "output_type": "stream",
     "text": [
      "Выполнено\n"
     ]
    }
   ],
   "source": [
    "# Тесты для Задания 4\n",
    "matrix = np.array([[1, 4, 4200], [0, 10, 5000], [1, 2, 1000]])\n",
    "\n",
    "scaler = StandardScaler()\n",
    "scaler.fit(matrix)\n",
    "\n",
    "assert np.allclose(\n",
    "    scaler.mean_,\n",
    "    np.array([0.66667, 5.3333, 3400])\n",
    "), 'Тест не пройден. Некорректное значение scaler.mean_'\n",
    "\n",
    "assert np.allclose(\n",
    "    scaler.var_,\n",
    "    np.array([0.22222, 11.5556, 2986666.67])\n",
    "), 'Тест не пройден. Некорректное значение scaler.var_'\n",
    "\n",
    "assert np.allclose(\n",
    "    scaler.transform(matrix),\n",
    "    np.array([[ 0.7071, -0.39223,  0.46291],\n",
    "              [-1.4142,  1.37281,  0.92582],\n",
    "              [ 0.7071, -0.98058, -1.38873]])\n",
    "), 'Тест не пройден. Некорректный результат scaler.transform(matrix)'\n",
    "\n",
    "print(\"Выполнено\")\n",
    "score += 1"
   ]
  },
  {
   "cell_type": "markdown",
   "id": "f6cf5bb2",
   "metadata": {},
   "source": [
    "## Задание 5 (1 балл)"
   ]
  },
  {
   "cell_type": "code",
   "execution_count": 10,
   "id": "c0815a15",
   "metadata": {},
   "outputs": [],
   "source": [
    "def antiderivative(coefs: np.array, const: float) -> np.array:\n",
    "    \"\"\"\n",
    "    Задание: Вычислить первообразную полинома\n",
    "    \"\"\"\n",
    "    m = coefs.shape[0]\n",
    "    new_coefs = np.empty(m + 1, dtype=float)\n",
    "    for i in range(m):\n",
    "        new_coefs[i] = coefs[i] / (m - i)\n",
    "    new_coefs[m] = const\n",
    "    return new_coefs"
   ]
  },
  {
   "cell_type": "code",
   "execution_count": 11,
   "id": "1e372391",
   "metadata": {},
   "outputs": [
    {
     "name": "stdout",
     "output_type": "stream",
     "text": [
      "Выполнено\n"
     ]
    }
   ],
   "source": [
    "# Тесты для Задания 5\n",
    "coefs = np.array([4, 6, 0, 1])\n",
    "const = 42.0\n",
    "assert np.allclose(\n",
    "    antiderivative(coefs, const),\n",
    "    np.array([1., 2., 0., 1., 42.])\n",
    "), 'Тест не пройден.'\n",
    "\n",
    "coefs = np.array([1, 7, -12, 21, -6])\n",
    "const = 42.0\n",
    "assert np.allclose(\n",
    "    antiderivative(coefs, const),\n",
    "    np.array([ 0.2, 1.75, -4., 10.5, -6., 42.])\n",
    "), 'Тест не пройден.'\n",
    "\n",
    "print(\"Выполнено\")\n",
    "score += 1"
   ]
  },
  {
   "cell_type": "code",
   "execution_count": 12,
   "id": "f8211a49",
   "metadata": {},
   "outputs": [
    {
     "name": "stdout",
     "output_type": "stream",
     "text": [
      "Итоговый балл: 5\n"
     ]
    }
   ],
   "source": [
    "print('Итоговый балл:', score)"
   ]
  }
 ],
 "metadata": {
  "jupytext": {
   "text_representation": {
    "extension": ".md",
    "format_name": "markdown",
    "format_version": "1.3",
    "jupytext_version": "1.16.7"
   }
  },
  "kernelspec": {
   "display_name": "Python 3",
   "language": "python",
   "name": "python3"
  },
  "language_info": {
   "codemirror_mode": {
    "name": "ipython",
    "version": 3
   },
   "file_extension": ".py",
   "mimetype": "text/x-python",
   "name": "python",
   "nbconvert_exporter": "python",
   "pygments_lexer": "ipython3",
   "version": "3.13.3"
  }
 },
 "nbformat": 4,
 "nbformat_minor": 5
}
